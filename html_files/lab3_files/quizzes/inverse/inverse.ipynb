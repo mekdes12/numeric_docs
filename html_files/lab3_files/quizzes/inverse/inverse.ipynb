{
 "cells": [
  {
   "cell_type": "markdown",
   "metadata": {
    "toc": "true"
   },
   "source": [
    " # Table of Contents\n",
    "<div class=\"toc\" style=\"margin-top: 1em;\"><ul class=\"toc-item\" id=\"toc-level0\"><li><span><a href=\"http://localhost:8888/notebooks/inverse/Untitled.ipynb?kernel_name=python3#Solution-to-Matrix-Inversion\" data-toc-modified-id=\"Solution-to-Matrix-Inversion-1\"><span class=\"toc-item-num\">1&nbsp;&nbsp;</span>Solution to Matrix Inversion</a></span></li></ul></div>"
   ]
  },
  {
   "cell_type": "markdown",
   "metadata": {},
   "source": [
    "Solution to Matrix Inversion\n",
    "============================\n",
    "\n",
    "****\n",
    "\n",
    "****\n",
    "\n",
    "1.  The given matrix:\n",
    "\n",
    "    ![](img1.gif)\n",
    "\n",
    "    does not have an inverse. It is actually a singular matrix, i.e.\n",
    "    there is more than one solution to the system **Ax = b**, for some\n",
    "    **b**.\n",
    "\n",
    "    Suppose **b** = \\[2 -6 1\\], then solving for ![](img2.gif):\n",
    "\n",
    "    ![](img3.gif)\n",
    "\n",
    "    The system has more than one solution, i.e. it does not have a\n",
    "    unique solution. Therefore, the matrix **A** does not have an\n",
    "    inverse.\\\n",
    "    \\\n",
    "\n",
    "2.  The given matrix:\n",
    "\n",
    "    ![](img4.gif)\n",
    "\n",
    "    has an inverse, since the system **Bx = c** has a unique solution\n",
    "    for some **c**.\n",
    "\n",
    "    To find the inverse ![](img5.gif) of matrix **B**:\n",
    "\n",
    "    ![](img6.gif)\n",
    "\n",
    "    i.e.\n",
    "\n",
    "    ![](img7.gif)\n",
    "\n",
    "Use Octave to confirm the answers.\n",
    "\n",
    "\\\n",
    "\n",
    "------------------------------------------------------------------------\n",
    "\n",
    "*John M. Stockie\\\n",
    "Mon Sep 18 11:38:45 PDT 1995*\n"
   ]
  },
  {
   "cell_type": "code",
   "execution_count": null,
   "metadata": {
    "collapsed": true
   },
   "outputs": [],
   "source": []
  }
 ],
 "metadata": {
  "kernelspec": {
   "display_name": "Python 3",
   "language": "python",
   "name": "python3"
  },
  "language_info": {
   "codemirror_mode": {
    "name": "ipython",
    "version": 3
   },
   "file_extension": ".py",
   "mimetype": "text/x-python",
   "name": "python",
   "nbconvert_exporter": "python",
   "pygments_lexer": "ipython3",
   "version": "3.6.1"
  },
  "toc": {
   "nav_menu": {},
   "number_sections": true,
   "sideBar": false,
   "skip_h1_title": false,
   "toc_cell": true,
   "toc_position": {},
   "toc_section_display": "block",
   "toc_window_display": false
  }
 },
 "nbformat": 4,
 "nbformat_minor": 2
}
